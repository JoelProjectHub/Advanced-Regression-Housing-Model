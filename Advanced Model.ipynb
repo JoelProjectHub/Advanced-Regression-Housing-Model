{
  "cells": [
    {
      "cell_type": "code",
      "execution_count": null,
      "metadata": {
        "id": "EFX3OcWv8xBU"
      },
      "outputs": [],
      "source": [
        "import pandas as pd\n",
        "import matplotlib.pyplot as plt\n",
        "import numpy as np\n",
        "import seaborn as sns\n",
        "import shap\n",
        "import optuna\n",
        "\n",
        "\n",
        "from sklearn.tree import DecisionTreeRegressor\n",
        "from sklearn.ensemble import RandomForestRegressor, GradientBoostingRegressor\n",
        "from sklearn.linear_model import LinearRegression, Ridge, Lasso\n",
        "from sklearn.model_selection import train_test_split, cross_val_score, GridSearchCV\n",
        "from sklearn.metrics import mean_absolute_error, mean_squared_error, r2_score\n",
        "from sklearn.preprocessing import StandardScaler, PolynomialFeatures\n",
        "from sklearn.pipeline import Pipeline\n",
        "from sklearn.preprocessing import OneHotEncoder\n",
        "from sklearn.compose import ColumnTransformer\n",
        "from sklearn.impute import SimpleImputer\n",
        "from sklearn.metrics import mean_squared_log_error\n",
        "from sklearn.ensemble import StackingRegressor\n",
        "from scipy import stats\n",
        "from sklearn.ensemble import StackingRegressor\n",
        "from sklearn.model_selection import RandomizedSearchCV\n",
        "from sklearn.model_selection import KFold\n",
        "import time\n",
        "from sklearn.feature_selection import RFE\n",
        "from sklearn.metrics import make_scorer, mean_squared_log_error\n",
        "from sklearn.linear_model import RidgeCV\n",
        "from sklearn.feature_selection import SelectKBest, f_regression\n",
        "\n",
        "from xgboost import XGBRegressor"
      ]
    },
    {
      "cell_type": "code",
      "execution_count": null,
      "metadata": {
        "id": "gEE8SmZ5_mSV"
      },
      "outputs": [],
      "source": [
        "def rmsle(y_true, y_pred):\n",
        "    return np.sqrt(mean_squared_log_error(y_true, y_pred))\n",
        "\n",
        "rmsle_scorer = make_scorer(rmsle, greater_is_better=False)"
      ]
    },
    {
      "cell_type": "code",
      "execution_count": null,
      "metadata": {
        "id": "1wVAOIyg809I"
      },
      "outputs": [],
      "source": [
        "test = pd.read_csv('good_test_data.csv')\n",
        "train = pd.read_csv('good_train_data.csv')\n",
        "test_df = test.copy()\n",
        "train_df = train.copy()"
      ]
    },
    {
      "cell_type": "code",
      "execution_count": null,
      "metadata": {
        "id": "uRN3-F6h89R2"
      },
      "outputs": [],
      "source": [
        "y_train = train_df['SalePrice']\n",
        "X_train = train_df.drop('SalePrice', axis=1)\n",
        "X_test = test_df.copy()"
      ]
    },
    {
      "cell_type": "code",
      "execution_count": null,
      "metadata": {
        "id": "BHwka2Iq8-m4"
      },
      "outputs": [],
      "source": [
        "numerical = train_df.select_dtypes(include=['int64', 'float64']).columns.drop('SalePrice')\n",
        "categorical = train_df.select_dtypes(include=['object']).columns\n",
        "\n",
        "X_train.columns = X_train.columns.astype(str)\n",
        "X_test.columns = X_test.columns.astype(str)\n",
        "\n",
        "numerical = numerical.astype(str)\n",
        "categorical = categorical.astype(str)"
      ]
    },
    {
      "cell_type": "code",
      "execution_count": null,
      "metadata": {
        "id": "cp1EgXZD9CFP"
      },
      "outputs": [],
      "source": [
        "num_imputer = SimpleImputer(strategy='mean')\n",
        "X_train_num = num_imputer.fit_transform(X_train[numerical])\n",
        "X_test_num = num_imputer.transform(X_test[numerical])"
      ]
    },
    {
      "cell_type": "code",
      "execution_count": null,
      "metadata": {
        "id": "jq9NsP_69FAu"
      },
      "outputs": [],
      "source": [
        "scaler = StandardScaler()\n",
        "X_train_num = scaler.fit_transform(X_train_num)\n",
        "X_test_num = scaler.transform(X_test_num)"
      ]
    },
    {
      "cell_type": "code",
      "execution_count": null,
      "metadata": {
        "id": "C-G6RW3m9GYd"
      },
      "outputs": [],
      "source": [
        "X_train_cat = X_train[categorical].copy()\n",
        "X_test_cat = X_test[categorical].copy()\n",
        "\n",
        "for col in categorical:\n",
        "    X_train_cat[col] = X_train[col].astype('category')\n",
        "    X_test_cat[col] = X_test[col].astype('category')"
      ]
    },
    {
      "cell_type": "code",
      "execution_count": null,
      "metadata": {
        "id": "NZ39rw9h9Hq2"
      },
      "outputs": [],
      "source": [
        "X_train = pd.concat([\n",
        "    pd.DataFrame(X_train_num, columns=numerical, index=X_train.index),\n",
        "    X_train_cat\n",
        "], axis=1)\n",
        "\n",
        "X_test = pd.concat([\n",
        "    pd.DataFrame(X_test_num, columns=numerical, index=X_test.index),\n",
        "    X_test_cat\n",
        "], axis=1)"
      ]
    },
    {
      "cell_type": "code",
      "execution_count": null,
      "metadata": {
        "id": "PR90Nww99KiJ"
      },
      "outputs": [],
      "source": [
        "X_train_xgb, X_val_xgb, y_train_xgb, y_val_xgb = train_test_split(X_train, y_train, test_size=0.35, random_state=42)\n",
        "\n",
        "\n",
        "def objective(trial):\n",
        "  params = {\n",
        "      'n_estimators': trial.suggest_int('n_estimators', 300, 1500),\n",
        "      'max_depth': trial.suggest_int('max_depth', 3, 10),\n",
        "      'learning_rate': trial.suggest_float('learning_rate', 0.01, 0.3),\n",
        "      'subsample': trial.suggest_float('subsample', 0.6, 1.0),\n",
        "      'colsample_bytree': trial.suggest_float('colsample_bytree', 0.5, 1.0), #0.3 - 0.6\n",
        "      'reg_alpha': trial.suggest_float('reg_alpha', 0.0, 1.0),\n",
        "      'reg_lambda': trial.suggest_float('reg_lambda', 0.0, 2.0),\n",
        "  }\n",
        "  xgb = XGBRegressor(**params,\n",
        "                      tree_method='hist',\n",
        "                      enable_categorical=True,\n",
        "                      random_state=42,\n",
        "                  # n_estimators = 1000,\n",
        "                  # learning_rate = 0.03,\n",
        "                  # max_depth = 2,\n",
        "                  # subsample = 0.7,\n",
        "                  # colsample_bytree = 0.7\n",
        "                  )\n",
        "  # xgb.fit(X_train_xgb, y_train_xgb)\n",
        "  # print(\"Best XGBoost Params:\", xgb)\n",
        "  # y_preds_xgb = xgb.predict(X_val_xgb)\n",
        "  # print(\"Validation R^2:\", r2_score(y_val_xgb, y_preds_xgb))\n",
        "  # rmsle = np.sqrt(mean_squared_log_error(y_val_xgb, y_preds_xgb))\n",
        "  # print(f\"Validation RMSLE: {rmsle:.5f}\")\n",
        "  # rmsle\n",
        "  kf = KFold(n_splits=3, shuffle=True, random_state=42)\n",
        "  scores = cross_val_score(xgb, X_train_xgb, y_train_xgb, scoring='neg_mean_squared_log_error', cv=kf)\n",
        "\n",
        "\n",
        "  return np.sqrt(-scores.mean())"
      ]
    },
    {
      "cell_type": "code",
      "execution_count": null,
      "metadata": {
        "id": "lUZHFEIZSTnV"
      },
      "outputs": [],
      "source": [
        "# [I 2025-04-14 21:39:02,460] Trial 8 finished with value: 0.009802669320849998 and parameters:\n",
        "#  {'n_estimators': 445, 'max_depth': 4, 'learning_rate': 0.020088633268618115, 'subsample': 0.6473813619539747,\n",
        "# 'colsample_bytree': 0.6200060506685562, 'reg_alpha': 0.18429363114878394, 'reg_lambda': 1.8368057913572426}. Best is trial 8 with value: 0.009802669320849998.\n",
        "\n",
        "# [I 2025-04-14 21:27:16,165] Trial 3 finished with value: 0.01035550806109333 and parameters: {'n_estimators': 705, 'max_depth': 8, 'learning_rate': 0.022352444872233174, 'subsample': 0.7579608112936713, 'colsample_bytree': 0.5059629117372366, 'reg_alpha': 0.5815255197371083, 'reg_lambda': 1.002548087898375}. Best is trial 3 with value: 0.01035550806109333.\n"
      ]
    },
    {
      "cell_type": "code",
      "source": [
        "# [I 2025-04-15 13:58:14,738] A new study created in memory with name: no-name-22524862-096e-4a9c-9127-9065231128c9\n",
        "# [I 2025-04-15 17:24:36,091] Trial 38 finished with value: 0.010166797089021996 and parameters: {'n_estimators': 666, 'max_depth': 3, 'learning_rate': 0.040836959358773406, 'subsample': 0.6579759766023049, 'colsample_bytree': 0.5524209398644827, 'reg_alpha': 0.08762388495907977, 'reg_lambda': 0.1879069508548567}. Best is trial 38 with value: 0.010166797089021996.\n"
      ],
      "metadata": {
        "id": "GgkfkNoY92Xf"
      },
      "execution_count": null,
      "outputs": []
    },
    {
      "cell_type": "code",
      "execution_count": null,
      "metadata": {
        "colab": {
          "base_uri": "https://localhost:8080/"
        },
        "id": "9KSeTyYnGgR-",
        "outputId": "2b6729e4-cf2a-43d8-b008-d03a11ecc731"
      },
      "outputs": [
        {
          "output_type": "stream",
          "name": "stderr",
          "text": [
            "[I 2025-04-15 13:58:14,738] A new study created in memory with name: no-name-22524862-096e-4a9c-9127-9065231128c9\n",
            "[I 2025-04-15 14:02:42,656] Trial 0 finished with value: 0.011121550919978676 and parameters: {'n_estimators': 743, 'max_depth': 10, 'learning_rate': 0.12113035681058505, 'subsample': 0.6105988909213059, 'colsample_bytree': 0.6522140815463386, 'reg_alpha': 0.5023539756494094, 'reg_lambda': 1.0448421665048249}. Best is trial 0 with value: 0.011121550919978676.\n",
            "[I 2025-04-15 14:07:57,474] Trial 1 finished with value: 0.011232933533692304 and parameters: {'n_estimators': 873, 'max_depth': 10, 'learning_rate': 0.09763370321487774, 'subsample': 0.794955761538382, 'colsample_bytree': 0.6859506519035343, 'reg_alpha': 0.20836206741687768, 'reg_lambda': 0.7584568687160074}. Best is trial 0 with value: 0.011121550919978676.\n",
            "[I 2025-04-15 14:11:50,691] Trial 2 finished with value: 0.011471285174828922 and parameters: {'n_estimators': 904, 'max_depth': 5, 'learning_rate': 0.24264257571181552, 'subsample': 0.8616352722697707, 'colsample_bytree': 0.9623951133399735, 'reg_alpha': 0.05833170907540597, 'reg_lambda': 1.092560686735107}. Best is trial 0 with value: 0.011121550919978676.\n",
            "[I 2025-04-15 14:15:31,407] Trial 3 finished with value: 0.011663899677439516 and parameters: {'n_estimators': 346, 'max_depth': 8, 'learning_rate': 0.07300427849466049, 'subsample': 0.8699057308063922, 'colsample_bytree': 0.568893930568457, 'reg_alpha': 0.7246779871910353, 'reg_lambda': 1.6036716505602129}. Best is trial 0 with value: 0.011121550919978676.\n",
            "[I 2025-04-15 14:18:53,740] Trial 4 finished with value: 0.010776738852012647 and parameters: {'n_estimators': 327, 'max_depth': 9, 'learning_rate': 0.1637059144832624, 'subsample': 0.7597014594366451, 'colsample_bytree': 0.7705247770796899, 'reg_alpha': 0.07413198765489526, 'reg_lambda': 1.6847581390389699}. Best is trial 4 with value: 0.010776738852012647.\n",
            "[I 2025-04-15 14:22:34,708] Trial 5 finished with value: 0.011991632556906204 and parameters: {'n_estimators': 664, 'max_depth': 9, 'learning_rate': 0.17386375702829107, 'subsample': 0.877279910780998, 'colsample_bytree': 0.9061151102919736, 'reg_alpha': 0.9388209926090237, 'reg_lambda': 0.7617845986700846}. Best is trial 4 with value: 0.010776738852012647.\n",
            "[I 2025-04-15 14:34:57,099] Trial 6 finished with value: 0.010663151145475495 and parameters: {'n_estimators': 1036, 'max_depth': 7, 'learning_rate': 0.02567283398916429, 'subsample': 0.6120091205685639, 'colsample_bytree': 0.9225061908987131, 'reg_alpha': 0.5513056553683143, 'reg_lambda': 0.9306118394996554}. Best is trial 6 with value: 0.010663151145475495.\n",
            "[I 2025-04-15 14:38:42,309] Trial 7 finished with value: 0.01136939502729196 and parameters: {'n_estimators': 944, 'max_depth': 7, 'learning_rate': 0.14009951142389082, 'subsample': 0.817758202188157, 'colsample_bytree': 0.5327555930715685, 'reg_alpha': 0.3075360916991283, 'reg_lambda': 0.5059191643844045}. Best is trial 6 with value: 0.010663151145475495.\n",
            "[I 2025-04-15 14:42:27,914] Trial 8 finished with value: 0.011249055209479948 and parameters: {'n_estimators': 640, 'max_depth': 6, 'learning_rate': 0.09646384561331556, 'subsample': 0.7085597835125144, 'colsample_bytree': 0.6883741307964037, 'reg_alpha': 0.508462539539479, 'reg_lambda': 0.8402209844439001}. Best is trial 6 with value: 0.010663151145475495.\n",
            "[I 2025-04-15 14:45:36,337] Trial 9 finished with value: 0.011148183730806168 and parameters: {'n_estimators': 1015, 'max_depth': 4, 'learning_rate': 0.24759480635879177, 'subsample': 0.6886290419810412, 'colsample_bytree': 0.513517705188332, 'reg_alpha': 0.3345396507996048, 'reg_lambda': 0.12075424859292094}. Best is trial 6 with value: 0.010663151145475495.\n",
            "[I 2025-04-15 14:55:27,442] Trial 10 finished with value: 0.010904057609762026 and parameters: {'n_estimators': 1405, 'max_depth': 3, 'learning_rate': 0.012379230578719024, 'subsample': 0.9817885961699069, 'colsample_bytree': 0.8469556954984242, 'reg_alpha': 0.7027039840846191, 'reg_lambda': 1.3905980829211508}. Best is trial 6 with value: 0.010663151145475495.\n",
            "[I 2025-04-15 15:01:16,108] Trial 11 finished with value: 0.01079687189287081 and parameters: {'n_estimators': 1194, 'max_depth': 8, 'learning_rate': 0.19272376640952202, 'subsample': 0.6019609328051262, 'colsample_bytree': 0.8024480960651915, 'reg_alpha': 0.07725333442077487, 'reg_lambda': 1.7671549033737297}. Best is trial 6 with value: 0.010663151145475495.\n",
            "[I 2025-04-15 15:07:17,237] Trial 12 finished with value: 0.011303567533725592 and parameters: {'n_estimators': 301, 'max_depth': 7, 'learning_rate': 0.020342255526210495, 'subsample': 0.714359167360637, 'colsample_bytree': 0.7884516441744811, 'reg_alpha': 0.6387622536454471, 'reg_lambda': 1.9127255790204831}. Best is trial 6 with value: 0.010663151145475495.\n",
            "[I 2025-04-15 15:12:11,687] Trial 13 finished with value: 0.011811756246885562 and parameters: {'n_estimators': 1253, 'max_depth': 8, 'learning_rate': 0.21264819512269728, 'subsample': 0.6722968948641111, 'colsample_bytree': 0.9905081685070342, 'reg_alpha': 0.9258270106690029, 'reg_lambda': 1.416835504099587}. Best is trial 6 with value: 0.010663151145475495.\n",
            "[I 2025-04-15 15:17:51,541] Trial 14 finished with value: 0.01100703959691875 and parameters: {'n_estimators': 498, 'max_depth': 6, 'learning_rate': 0.05664714854180185, 'subsample': 0.7695658107970983, 'colsample_bytree': 0.8809304294898259, 'reg_alpha': 0.3762193095498048, 'reg_lambda': 1.279768074625594}. Best is trial 6 with value: 0.010663151145475495.\n",
            "[I 2025-04-15 15:21:50,654] Trial 15 finished with value: 0.012336862130061478 and parameters: {'n_estimators': 1149, 'max_depth': 9, 'learning_rate': 0.28680962074296723, 'subsample': 0.9786826724750273, 'colsample_bytree': 0.740844769797627, 'reg_alpha': 0.19562047644655978, 'reg_lambda': 0.42046994125258297}. Best is trial 6 with value: 0.010663151145475495.\n",
            "[I 2025-04-15 15:28:19,035] Trial 16 finished with value: 0.011184717600639231 and parameters: {'n_estimators': 1459, 'max_depth': 9, 'learning_rate': 0.15132379618224917, 'subsample': 0.6450479303281952, 'colsample_bytree': 0.9285244562061461, 'reg_alpha': 0.5915922390013807, 'reg_lambda': 1.9948130120176435}. Best is trial 6 with value: 0.010663151145475495.\n",
            "[I 2025-04-15 15:33:02,215] Trial 17 finished with value: 0.011127110261711105 and parameters: {'n_estimators': 456, 'max_depth': 5, 'learning_rate': 0.045482636188175524, 'subsample': 0.7575412416847795, 'colsample_bytree': 0.84574133437632, 'reg_alpha': 0.8016532277375105, 'reg_lambda': 1.6180553861328792}. Best is trial 6 with value: 0.010663151145475495.\n",
            "[I 2025-04-15 15:37:26,753] Trial 18 finished with value: 0.011676417532491259 and parameters: {'n_estimators': 1043, 'max_depth': 8, 'learning_rate': 0.12779507756933814, 'subsample': 0.9147838982442983, 'colsample_bytree': 0.608898743338913, 'reg_alpha': 0.4248781629038984, 'reg_lambda': 1.183115727364661}. Best is trial 6 with value: 0.010663151145475495.\n",
            "[I 2025-04-15 15:41:10,467] Trial 19 finished with value: 0.01114024722406499 and parameters: {'n_estimators': 800, 'max_depth': 7, 'learning_rate': 0.1764571147921013, 'subsample': 0.7404536638786232, 'colsample_bytree': 0.7524109297465577, 'reg_alpha': 0.21636780223603658, 'reg_lambda': 0.5006668168714672}. Best is trial 6 with value: 0.010663151145475495.\n",
            "[I 2025-04-15 15:46:11,097] Trial 20 finished with value: 0.0116152109804326 and parameters: {'n_estimators': 1324, 'max_depth': 10, 'learning_rate': 0.21998565961161393, 'subsample': 0.6471218600379809, 'colsample_bytree': 0.8329464096340436, 'reg_alpha': 0.822639657378813, 'reg_lambda': 0.9046736560805636}. Best is trial 6 with value: 0.010663151145475495.\n",
            "[I 2025-04-15 15:51:52,041] Trial 21 finished with value: 0.010542709747437191 and parameters: {'n_estimators': 1204, 'max_depth': 8, 'learning_rate': 0.1912193580247636, 'subsample': 0.6008270914295121, 'colsample_bytree': 0.7864360419175511, 'reg_alpha': 0.02490479790432132, 'reg_lambda': 1.6200190314792717}. Best is trial 21 with value: 0.010542709747437191.\n",
            "[I 2025-04-15 15:57:23,613] Trial 22 finished with value: 0.010697181340994408 and parameters: {'n_estimators': 1060, 'max_depth': 9, 'learning_rate': 0.1756775933020586, 'subsample': 0.6295857431114865, 'colsample_bytree': 0.7423732207419849, 'reg_alpha': 0.004850390049192035, 'reg_lambda': 1.5670390335846003}. Best is trial 21 with value: 0.010542709747437191.\n",
            "[I 2025-04-15 16:01:58,836] Trial 23 finished with value: 0.011153136554740792 and parameters: {'n_estimators': 1094, 'max_depth': 7, 'learning_rate': 0.19868061520686733, 'subsample': 0.6456538215103333, 'colsample_bytree': 0.6995119392441604, 'reg_alpha': 0.14341588374024664, 'reg_lambda': 1.402484810032349}. Best is trial 21 with value: 0.010542709747437191.\n",
            "[I 2025-04-15 16:07:57,450] Trial 24 finished with value: 0.010939542274250156 and parameters: {'n_estimators': 1279, 'max_depth': 8, 'learning_rate': 0.24292265571236815, 'subsample': 0.6025838596781251, 'colsample_bytree': 0.8900403196977875, 'reg_alpha': 0.00908933668622821, 'reg_lambda': 1.5576624569271196}. Best is trial 21 with value: 0.010542709747437191.\n",
            "[I 2025-04-15 16:11:47,265] Trial 25 finished with value: 0.011978143498333229 and parameters: {'n_estimators': 997, 'max_depth': 9, 'learning_rate': 0.293303755371606, 'subsample': 0.6333163845574309, 'colsample_bytree': 0.7260588801788163, 'reg_alpha': 0.2769062395595678, 'reg_lambda': 1.8218039823946466}. Best is trial 21 with value: 0.010542709747437191.\n",
            "[I 2025-04-15 16:16:51,467] Trial 26 finished with value: 0.01075156940422494 and parameters: {'n_estimators': 1168, 'max_depth': 6, 'learning_rate': 0.097878800809936, 'subsample': 0.6811227667140619, 'colsample_bytree': 0.6344427149136265, 'reg_alpha': 0.4379610425869748, 'reg_lambda': 1.2233078232227026}. Best is trial 21 with value: 0.010542709747437191.\n",
            "[I 2025-04-15 16:21:28,828] Trial 27 finished with value: 0.011054825442780894 and parameters: {'n_estimators': 1366, 'max_depth': 5, 'learning_rate': 0.26247699646922845, 'subsample': 0.6708792664544044, 'colsample_bytree': 0.8155924033075675, 'reg_alpha': 0.13964151213132425, 'reg_lambda': 0.6191997310235129}. Best is trial 21 with value: 0.010542709747437191.\n",
            "[I 2025-04-15 16:27:20,933] Trial 28 finished with value: 0.01078669521588134 and parameters: {'n_estimators': 1103, 'max_depth': 8, 'learning_rate': 0.18880280868802185, 'subsample': 0.6272476956704088, 'colsample_bytree': 0.9427795618029041, 'reg_alpha': 0.005707516433990955, 'reg_lambda': 1.4852068839402202}. Best is trial 21 with value: 0.010542709747437191.\n",
            "[I 2025-04-15 16:30:46,915] Trial 29 finished with value: 0.012015906599823205 and parameters: {'n_estimators': 809, 'max_depth': 10, 'learning_rate': 0.21898904857872106, 'subsample': 0.623864862854636, 'colsample_bytree': 0.650175608177963, 'reg_alpha': 0.5282730791335294, 'reg_lambda': 1.1344007647394136}. Best is trial 21 with value: 0.010542709747437191.\n",
            "[I 2025-04-15 16:36:39,047] Trial 30 finished with value: 0.011137083071924042 and parameters: {'n_estimators': 1221, 'max_depth': 7, 'learning_rate': 0.11864661026417356, 'subsample': 0.7160086756460213, 'colsample_bytree': 0.8766613579208499, 'reg_alpha': 0.43692523747555095, 'reg_lambda': 0.9678083387213894}. Best is trial 21 with value: 0.010542709747437191.\n",
            "[I 2025-04-15 16:41:14,122] Trial 31 finished with value: 0.011173506857952984 and parameters: {'n_estimators': 1138, 'max_depth': 6, 'learning_rate': 0.10876942726154187, 'subsample': 0.6745965311326851, 'colsample_bytree': 0.6340004242161216, 'reg_alpha': 0.5385040895069007, 'reg_lambda': 1.253963461708428}. Best is trial 21 with value: 0.010542709747437191.\n",
            "[I 2025-04-15 16:46:21,826] Trial 32 finished with value: 0.010624331939809193 and parameters: {'n_estimators': 969, 'max_depth': 6, 'learning_rate': 0.07324200440546325, 'subsample': 0.6006347229999762, 'colsample_bytree': 0.601966997164542, 'reg_alpha': 0.4344731904544768, 'reg_lambda': 1.0098444190988252}. Best is trial 21 with value: 0.010542709747437191.\n",
            "[I 2025-04-15 16:54:47,922] Trial 33 finished with value: 0.010447534639491647 and parameters: {'n_estimators': 908, 'max_depth': 7, 'learning_rate': 0.047570938799909146, 'subsample': 0.6041457470654148, 'colsample_bytree': 0.5845987193386291, 'reg_alpha': 0.13648134301875803, 'reg_lambda': 0.9931083724913999}. Best is trial 33 with value: 0.010447534639491647.\n",
            "[I 2025-04-15 17:03:28,049] Trial 34 finished with value: 0.01058943832204974 and parameters: {'n_estimators': 908, 'max_depth': 6, 'learning_rate': 0.033142237131840065, 'subsample': 0.6004795971630923, 'colsample_bytree': 0.6079248649746063, 'reg_alpha': 0.24744192806961052, 'reg_lambda': 1.022156716299007}. Best is trial 33 with value: 0.010447534639491647.\n",
            "[I 2025-04-15 17:08:31,090] Trial 35 finished with value: 0.0106363947345908 and parameters: {'n_estimators': 876, 'max_depth': 5, 'learning_rate': 0.07090027079092273, 'subsample': 0.6037973663303629, 'colsample_bytree': 0.5815986178874821, 'reg_alpha': 0.22489784827200632, 'reg_lambda': 1.0281660312903296}. Best is trial 33 with value: 0.010447534639491647.\n",
            "[I 2025-04-15 17:14:24,658] Trial 36 finished with value: 0.010375359336101486 and parameters: {'n_estimators': 723, 'max_depth': 4, 'learning_rate': 0.034839240135879204, 'subsample': 0.6508709959429537, 'colsample_bytree': 0.5583045716347923, 'reg_alpha': 0.11912450717218717, 'reg_lambda': 0.6732588990568296}. Best is trial 36 with value: 0.010375359336101486.\n",
            "[I 2025-04-15 17:20:14,589] Trial 37 finished with value: 0.010467051961490179 and parameters: {'n_estimators': 714, 'max_depth': 4, 'learning_rate': 0.03521437099753223, 'subsample': 0.6580731373614681, 'colsample_bytree': 0.550697901340645, 'reg_alpha': 0.12447161568002396, 'reg_lambda': 0.18942520944001795}. Best is trial 36 with value: 0.010375359336101486.\n",
            "[I 2025-04-15 17:24:36,091] Trial 38 finished with value: 0.010166797089021996 and parameters: {'n_estimators': 666, 'max_depth': 3, 'learning_rate': 0.040836959358773406, 'subsample': 0.6579759766023049, 'colsample_bytree': 0.5524209398644827, 'reg_alpha': 0.08762388495907977, 'reg_lambda': 0.1879069508548567}. Best is trial 38 with value: 0.010166797089021996.\n",
            "[I 2025-04-15 17:29:03,820] Trial 39 finished with value: 0.010410595000862752 and parameters: {'n_estimators': 676, 'max_depth': 3, 'learning_rate': 0.035994683219563145, 'subsample': 0.657245122959874, 'colsample_bytree': 0.553557155559397, 'reg_alpha': 0.1347843342858955, 'reg_lambda': 0.03776800403263647}. Best is trial 38 with value: 0.010166797089021996.\n"
          ]
        }
      ],
      "source": [
        "study = optuna.create_study(direction='minimize')  # we want to minimize RMSLE\n",
        "study.optimize(objective, n_trials=40)"
      ]
    },
    {
      "cell_type": "code",
      "execution_count": null,
      "metadata": {
        "colab": {
          "base_uri": "https://localhost:8080/",
          "height": 159
        },
        "id": "x2tCmYeLGhVx",
        "outputId": "8b910fcc-2501-4682-eaa5-137bdefba716"
      },
      "outputs": [
        {
          "output_type": "error",
          "ename": "NameError",
          "evalue": "name 'study' is not defined",
          "traceback": [
            "\u001b[0;31m---------------------------------------------------------------------------\u001b[0m",
            "\u001b[0;31mNameError\u001b[0m                                 Traceback (most recent call last)",
            "\u001b[0;32m<ipython-input-19-a1fb203c2ab1>\u001b[0m in \u001b[0;36m<cell line: 0>\u001b[0;34m()\u001b[0m\n\u001b[0;32m----> 1\u001b[0;31m \u001b[0mprint\u001b[0m\u001b[0;34m(\u001b[0m\u001b[0;34m\"Best RMSLE:\"\u001b[0m\u001b[0;34m,\u001b[0m \u001b[0mstudy\u001b[0m\u001b[0;34m.\u001b[0m\u001b[0mbest_value\u001b[0m\u001b[0;34m)\u001b[0m\u001b[0;34m\u001b[0m\u001b[0;34m\u001b[0m\u001b[0m\n\u001b[0m\u001b[1;32m      2\u001b[0m \u001b[0mprint\u001b[0m\u001b[0;34m(\u001b[0m\u001b[0;34m\"Best parameters:\"\u001b[0m\u001b[0;34m,\u001b[0m \u001b[0mstudy\u001b[0m\u001b[0;34m.\u001b[0m\u001b[0mbest_params\u001b[0m\u001b[0;34m)\u001b[0m\u001b[0;34m\u001b[0m\u001b[0;34m\u001b[0m\u001b[0m\n",
            "\u001b[0;31mNameError\u001b[0m: name 'study' is not defined"
          ]
        }
      ],
      "source": [
        "print(\"Best RMSLE:\", study.best_value)\n",
        "print(\"Best parameters:\", study.best_params)"
      ]
    },
    {
      "cell_type": "code",
      "execution_count": null,
      "metadata": {
        "id": "3zW8sCHlUDcj"
      },
      "outputs": [],
      "source": [
        "best_params = study.best_params\n",
        "\n",
        "best_model = XGBRegressor(\n",
        "    objective='reg:squarederror',\n",
        "    random_state=42,\n",
        "    **best_params\n",
        ")\n",
        "# best_model.fit(X_train, y_train)"
      ]
    },
    {
      "cell_type": "code",
      "source": [
        "base_models = [\n",
        "    ('xgb', best_model),\n",
        "    ('ridge', RidgeCV(alphas=[0.1, 1.0, 10.0])),\n",
        "    ('rf', RandomForestRegressor(n_estimators=200, max_depth=10, random_state=42))\n",
        "]"
      ],
      "metadata": {
        "id": "beUzmPdVtCie"
      },
      "execution_count": null,
      "outputs": []
    },
    {
      "cell_type": "code",
      "source": [
        "meta_model = RidgeCV(alphas=[0.1, 1.0, 10.0])"
      ],
      "metadata": {
        "id": "r4ZtI52utDyr"
      },
      "execution_count": null,
      "outputs": []
    },
    {
      "cell_type": "code",
      "source": [
        "stack_model = StackingRegressor(\n",
        "    estimators=base_models,\n",
        "    final_estimator=meta_model,\n",
        "    passthrough=True,  # optionally include original features\n",
        "    cv=3,              # internal CV for base model training\n",
        "    n_jobs=-1\n",
        ")"
      ],
      "metadata": {
        "id": "B_VbZXxQsrlu"
      },
      "execution_count": null,
      "outputs": []
    },
    {
      "cell_type": "code",
      "execution_count": null,
      "metadata": {
        "id": "v2GdNwMu9OUF"
      },
      "outputs": [],
      "source": [
        "# Step 1: SelectKBest — top 1000 statistically significant features\n",
        "skb = SelectKBest(score_func=f_regression, k=1000)\n",
        "X_kbest = skb.fit_transform(X_train, y_train)\n",
        "kbest_features = X_train.columns[skb.get_support()]\n",
        "\n",
        "# Step 2: XGBoost importance — top 300 from tree model\n",
        "xgb = best_model\n",
        "# xgb.fit(X_train, y_train)\n",
        "xgb_top = X_train.columns[np.argsort(xgb.feature_importances_)[-100:]]\n",
        "\n",
        "# Step 3: Intersection\n",
        "selected_features = list(set(kbest_features).intersection(set(xgb_top)))\n",
        "X_trimmed = X_train[selected_features]\n",
        "X_test_trimmed = X_test[selected_features]"
      ]
    },
    {
      "cell_type": "code",
      "source": [
        "len(selected_features)"
      ],
      "metadata": {
        "colab": {
          "base_uri": "https://localhost:8080/"
        },
        "id": "3FP0bKLjACh2",
        "outputId": "a001cdc0-3b4a-40de-f0d2-0485cf4e831d"
      },
      "execution_count": null,
      "outputs": [
        {
          "output_type": "execute_result",
          "data": {
            "text/plain": [
              "71"
            ]
          },
          "metadata": {},
          "execution_count": 101
        }
      ]
    },
    {
      "cell_type": "code",
      "source": [
        "test_id = pd.read_csv('test.csv')['Id']"
      ],
      "metadata": {
        "id": "WD18ZG67iQTn"
      },
      "execution_count": null,
      "outputs": []
    },
    {
      "cell_type": "code",
      "execution_count": null,
      "metadata": {
        "id": "JMM-EFeU9XpB",
        "colab": {
          "base_uri": "https://localhost:8080/",
          "height": 196
        },
        "outputId": "31148e9f-789c-45ed-b77f-70a77bb3c6ea"
      },
      "outputs": [
        {
          "output_type": "execute_result",
          "data": {
            "text/plain": [
              "StackingRegressor(cv=3,\n",
              "                  estimators=[('xgb',\n",
              "                               XGBRegressor(base_score=None, booster=None,\n",
              "                                            callbacks=None,\n",
              "                                            colsample_bylevel=None,\n",
              "                                            colsample_bynode=None,\n",
              "                                            colsample_bytree=0.5524209398644827,\n",
              "                                            device=None,\n",
              "                                            early_stopping_rounds=None,\n",
              "                                            enable_categorical=False,\n",
              "                                            eval_metric=None,\n",
              "                                            feature_types=None, gamma=None,\n",
              "                                            grow_policy=None,\n",
              "                                            importance_type=None,\n",
              "                                            interaction_constrain...\n",
              "                                            max_leaves=None,\n",
              "                                            min_child_weight=None, missing=nan,\n",
              "                                            monotone_constraints=None,\n",
              "                                            multi_strategy=None,\n",
              "                                            n_estimators=666, n_jobs=None,\n",
              "                                            num_parallel_tree=None,\n",
              "                                            random_state=42, ...)),\n",
              "                              ('ridge', RidgeCV(alphas=[0.1, 1.0, 10.0])),\n",
              "                              ('rf',\n",
              "                               RandomForestRegressor(max_depth=10,\n",
              "                                                     n_estimators=200,\n",
              "                                                     random_state=42))],\n",
              "                  final_estimator=RidgeCV(alphas=[0.1, 1.0, 10.0]), n_jobs=-1,\n",
              "                  passthrough=True)"
            ],
            "text/html": [
              "<style>#sk-container-id-4 {\n",
              "  /* Definition of color scheme common for light and dark mode */\n",
              "  --sklearn-color-text: #000;\n",
              "  --sklearn-color-text-muted: #666;\n",
              "  --sklearn-color-line: gray;\n",
              "  /* Definition of color scheme for unfitted estimators */\n",
              "  --sklearn-color-unfitted-level-0: #fff5e6;\n",
              "  --sklearn-color-unfitted-level-1: #f6e4d2;\n",
              "  --sklearn-color-unfitted-level-2: #ffe0b3;\n",
              "  --sklearn-color-unfitted-level-3: chocolate;\n",
              "  /* Definition of color scheme for fitted estimators */\n",
              "  --sklearn-color-fitted-level-0: #f0f8ff;\n",
              "  --sklearn-color-fitted-level-1: #d4ebff;\n",
              "  --sklearn-color-fitted-level-2: #b3dbfd;\n",
              "  --sklearn-color-fitted-level-3: cornflowerblue;\n",
              "\n",
              "  /* Specific color for light theme */\n",
              "  --sklearn-color-text-on-default-background: var(--sg-text-color, var(--theme-code-foreground, var(--jp-content-font-color1, black)));\n",
              "  --sklearn-color-background: var(--sg-background-color, var(--theme-background, var(--jp-layout-color0, white)));\n",
              "  --sklearn-color-border-box: var(--sg-text-color, var(--theme-code-foreground, var(--jp-content-font-color1, black)));\n",
              "  --sklearn-color-icon: #696969;\n",
              "\n",
              "  @media (prefers-color-scheme: dark) {\n",
              "    /* Redefinition of color scheme for dark theme */\n",
              "    --sklearn-color-text-on-default-background: var(--sg-text-color, var(--theme-code-foreground, var(--jp-content-font-color1, white)));\n",
              "    --sklearn-color-background: var(--sg-background-color, var(--theme-background, var(--jp-layout-color0, #111)));\n",
              "    --sklearn-color-border-box: var(--sg-text-color, var(--theme-code-foreground, var(--jp-content-font-color1, white)));\n",
              "    --sklearn-color-icon: #878787;\n",
              "  }\n",
              "}\n",
              "\n",
              "#sk-container-id-4 {\n",
              "  color: var(--sklearn-color-text);\n",
              "}\n",
              "\n",
              "#sk-container-id-4 pre {\n",
              "  padding: 0;\n",
              "}\n",
              "\n",
              "#sk-container-id-4 input.sk-hidden--visually {\n",
              "  border: 0;\n",
              "  clip: rect(1px 1px 1px 1px);\n",
              "  clip: rect(1px, 1px, 1px, 1px);\n",
              "  height: 1px;\n",
              "  margin: -1px;\n",
              "  overflow: hidden;\n",
              "  padding: 0;\n",
              "  position: absolute;\n",
              "  width: 1px;\n",
              "}\n",
              "\n",
              "#sk-container-id-4 div.sk-dashed-wrapped {\n",
              "  border: 1px dashed var(--sklearn-color-line);\n",
              "  margin: 0 0.4em 0.5em 0.4em;\n",
              "  box-sizing: border-box;\n",
              "  padding-bottom: 0.4em;\n",
              "  background-color: var(--sklearn-color-background);\n",
              "}\n",
              "\n",
              "#sk-container-id-4 div.sk-container {\n",
              "  /* jupyter's `normalize.less` sets `[hidden] { display: none; }`\n",
              "     but bootstrap.min.css set `[hidden] { display: none !important; }`\n",
              "     so we also need the `!important` here to be able to override the\n",
              "     default hidden behavior on the sphinx rendered scikit-learn.org.\n",
              "     See: https://github.com/scikit-learn/scikit-learn/issues/21755 */\n",
              "  display: inline-block !important;\n",
              "  position: relative;\n",
              "}\n",
              "\n",
              "#sk-container-id-4 div.sk-text-repr-fallback {\n",
              "  display: none;\n",
              "}\n",
              "\n",
              "div.sk-parallel-item,\n",
              "div.sk-serial,\n",
              "div.sk-item {\n",
              "  /* draw centered vertical line to link estimators */\n",
              "  background-image: linear-gradient(var(--sklearn-color-text-on-default-background), var(--sklearn-color-text-on-default-background));\n",
              "  background-size: 2px 100%;\n",
              "  background-repeat: no-repeat;\n",
              "  background-position: center center;\n",
              "}\n",
              "\n",
              "/* Parallel-specific style estimator block */\n",
              "\n",
              "#sk-container-id-4 div.sk-parallel-item::after {\n",
              "  content: \"\";\n",
              "  width: 100%;\n",
              "  border-bottom: 2px solid var(--sklearn-color-text-on-default-background);\n",
              "  flex-grow: 1;\n",
              "}\n",
              "\n",
              "#sk-container-id-4 div.sk-parallel {\n",
              "  display: flex;\n",
              "  align-items: stretch;\n",
              "  justify-content: center;\n",
              "  background-color: var(--sklearn-color-background);\n",
              "  position: relative;\n",
              "}\n",
              "\n",
              "#sk-container-id-4 div.sk-parallel-item {\n",
              "  display: flex;\n",
              "  flex-direction: column;\n",
              "}\n",
              "\n",
              "#sk-container-id-4 div.sk-parallel-item:first-child::after {\n",
              "  align-self: flex-end;\n",
              "  width: 50%;\n",
              "}\n",
              "\n",
              "#sk-container-id-4 div.sk-parallel-item:last-child::after {\n",
              "  align-self: flex-start;\n",
              "  width: 50%;\n",
              "}\n",
              "\n",
              "#sk-container-id-4 div.sk-parallel-item:only-child::after {\n",
              "  width: 0;\n",
              "}\n",
              "\n",
              "/* Serial-specific style estimator block */\n",
              "\n",
              "#sk-container-id-4 div.sk-serial {\n",
              "  display: flex;\n",
              "  flex-direction: column;\n",
              "  align-items: center;\n",
              "  background-color: var(--sklearn-color-background);\n",
              "  padding-right: 1em;\n",
              "  padding-left: 1em;\n",
              "}\n",
              "\n",
              "\n",
              "/* Toggleable style: style used for estimator/Pipeline/ColumnTransformer box that is\n",
              "clickable and can be expanded/collapsed.\n",
              "- Pipeline and ColumnTransformer use this feature and define the default style\n",
              "- Estimators will overwrite some part of the style using the `sk-estimator` class\n",
              "*/\n",
              "\n",
              "/* Pipeline and ColumnTransformer style (default) */\n",
              "\n",
              "#sk-container-id-4 div.sk-toggleable {\n",
              "  /* Default theme specific background. It is overwritten whether we have a\n",
              "  specific estimator or a Pipeline/ColumnTransformer */\n",
              "  background-color: var(--sklearn-color-background);\n",
              "}\n",
              "\n",
              "/* Toggleable label */\n",
              "#sk-container-id-4 label.sk-toggleable__label {\n",
              "  cursor: pointer;\n",
              "  display: flex;\n",
              "  width: 100%;\n",
              "  margin-bottom: 0;\n",
              "  padding: 0.5em;\n",
              "  box-sizing: border-box;\n",
              "  text-align: center;\n",
              "  align-items: start;\n",
              "  justify-content: space-between;\n",
              "  gap: 0.5em;\n",
              "}\n",
              "\n",
              "#sk-container-id-4 label.sk-toggleable__label .caption {\n",
              "  font-size: 0.6rem;\n",
              "  font-weight: lighter;\n",
              "  color: var(--sklearn-color-text-muted);\n",
              "}\n",
              "\n",
              "#sk-container-id-4 label.sk-toggleable__label-arrow:before {\n",
              "  /* Arrow on the left of the label */\n",
              "  content: \"▸\";\n",
              "  float: left;\n",
              "  margin-right: 0.25em;\n",
              "  color: var(--sklearn-color-icon);\n",
              "}\n",
              "\n",
              "#sk-container-id-4 label.sk-toggleable__label-arrow:hover:before {\n",
              "  color: var(--sklearn-color-text);\n",
              "}\n",
              "\n",
              "/* Toggleable content - dropdown */\n",
              "\n",
              "#sk-container-id-4 div.sk-toggleable__content {\n",
              "  max-height: 0;\n",
              "  max-width: 0;\n",
              "  overflow: hidden;\n",
              "  text-align: left;\n",
              "  /* unfitted */\n",
              "  background-color: var(--sklearn-color-unfitted-level-0);\n",
              "}\n",
              "\n",
              "#sk-container-id-4 div.sk-toggleable__content.fitted {\n",
              "  /* fitted */\n",
              "  background-color: var(--sklearn-color-fitted-level-0);\n",
              "}\n",
              "\n",
              "#sk-container-id-4 div.sk-toggleable__content pre {\n",
              "  margin: 0.2em;\n",
              "  border-radius: 0.25em;\n",
              "  color: var(--sklearn-color-text);\n",
              "  /* unfitted */\n",
              "  background-color: var(--sklearn-color-unfitted-level-0);\n",
              "}\n",
              "\n",
              "#sk-container-id-4 div.sk-toggleable__content.fitted pre {\n",
              "  /* unfitted */\n",
              "  background-color: var(--sklearn-color-fitted-level-0);\n",
              "}\n",
              "\n",
              "#sk-container-id-4 input.sk-toggleable__control:checked~div.sk-toggleable__content {\n",
              "  /* Expand drop-down */\n",
              "  max-height: 200px;\n",
              "  max-width: 100%;\n",
              "  overflow: auto;\n",
              "}\n",
              "\n",
              "#sk-container-id-4 input.sk-toggleable__control:checked~label.sk-toggleable__label-arrow:before {\n",
              "  content: \"▾\";\n",
              "}\n",
              "\n",
              "/* Pipeline/ColumnTransformer-specific style */\n",
              "\n",
              "#sk-container-id-4 div.sk-label input.sk-toggleable__control:checked~label.sk-toggleable__label {\n",
              "  color: var(--sklearn-color-text);\n",
              "  background-color: var(--sklearn-color-unfitted-level-2);\n",
              "}\n",
              "\n",
              "#sk-container-id-4 div.sk-label.fitted input.sk-toggleable__control:checked~label.sk-toggleable__label {\n",
              "  background-color: var(--sklearn-color-fitted-level-2);\n",
              "}\n",
              "\n",
              "/* Estimator-specific style */\n",
              "\n",
              "/* Colorize estimator box */\n",
              "#sk-container-id-4 div.sk-estimator input.sk-toggleable__control:checked~label.sk-toggleable__label {\n",
              "  /* unfitted */\n",
              "  background-color: var(--sklearn-color-unfitted-level-2);\n",
              "}\n",
              "\n",
              "#sk-container-id-4 div.sk-estimator.fitted input.sk-toggleable__control:checked~label.sk-toggleable__label {\n",
              "  /* fitted */\n",
              "  background-color: var(--sklearn-color-fitted-level-2);\n",
              "}\n",
              "\n",
              "#sk-container-id-4 div.sk-label label.sk-toggleable__label,\n",
              "#sk-container-id-4 div.sk-label label {\n",
              "  /* The background is the default theme color */\n",
              "  color: var(--sklearn-color-text-on-default-background);\n",
              "}\n",
              "\n",
              "/* On hover, darken the color of the background */\n",
              "#sk-container-id-4 div.sk-label:hover label.sk-toggleable__label {\n",
              "  color: var(--sklearn-color-text);\n",
              "  background-color: var(--sklearn-color-unfitted-level-2);\n",
              "}\n",
              "\n",
              "/* Label box, darken color on hover, fitted */\n",
              "#sk-container-id-4 div.sk-label.fitted:hover label.sk-toggleable__label.fitted {\n",
              "  color: var(--sklearn-color-text);\n",
              "  background-color: var(--sklearn-color-fitted-level-2);\n",
              "}\n",
              "\n",
              "/* Estimator label */\n",
              "\n",
              "#sk-container-id-4 div.sk-label label {\n",
              "  font-family: monospace;\n",
              "  font-weight: bold;\n",
              "  display: inline-block;\n",
              "  line-height: 1.2em;\n",
              "}\n",
              "\n",
              "#sk-container-id-4 div.sk-label-container {\n",
              "  text-align: center;\n",
              "}\n",
              "\n",
              "/* Estimator-specific */\n",
              "#sk-container-id-4 div.sk-estimator {\n",
              "  font-family: monospace;\n",
              "  border: 1px dotted var(--sklearn-color-border-box);\n",
              "  border-radius: 0.25em;\n",
              "  box-sizing: border-box;\n",
              "  margin-bottom: 0.5em;\n",
              "  /* unfitted */\n",
              "  background-color: var(--sklearn-color-unfitted-level-0);\n",
              "}\n",
              "\n",
              "#sk-container-id-4 div.sk-estimator.fitted {\n",
              "  /* fitted */\n",
              "  background-color: var(--sklearn-color-fitted-level-0);\n",
              "}\n",
              "\n",
              "/* on hover */\n",
              "#sk-container-id-4 div.sk-estimator:hover {\n",
              "  /* unfitted */\n",
              "  background-color: var(--sklearn-color-unfitted-level-2);\n",
              "}\n",
              "\n",
              "#sk-container-id-4 div.sk-estimator.fitted:hover {\n",
              "  /* fitted */\n",
              "  background-color: var(--sklearn-color-fitted-level-2);\n",
              "}\n",
              "\n",
              "/* Specification for estimator info (e.g. \"i\" and \"?\") */\n",
              "\n",
              "/* Common style for \"i\" and \"?\" */\n",
              "\n",
              ".sk-estimator-doc-link,\n",
              "a:link.sk-estimator-doc-link,\n",
              "a:visited.sk-estimator-doc-link {\n",
              "  float: right;\n",
              "  font-size: smaller;\n",
              "  line-height: 1em;\n",
              "  font-family: monospace;\n",
              "  background-color: var(--sklearn-color-background);\n",
              "  border-radius: 1em;\n",
              "  height: 1em;\n",
              "  width: 1em;\n",
              "  text-decoration: none !important;\n",
              "  margin-left: 0.5em;\n",
              "  text-align: center;\n",
              "  /* unfitted */\n",
              "  border: var(--sklearn-color-unfitted-level-1) 1pt solid;\n",
              "  color: var(--sklearn-color-unfitted-level-1);\n",
              "}\n",
              "\n",
              ".sk-estimator-doc-link.fitted,\n",
              "a:link.sk-estimator-doc-link.fitted,\n",
              "a:visited.sk-estimator-doc-link.fitted {\n",
              "  /* fitted */\n",
              "  border: var(--sklearn-color-fitted-level-1) 1pt solid;\n",
              "  color: var(--sklearn-color-fitted-level-1);\n",
              "}\n",
              "\n",
              "/* On hover */\n",
              "div.sk-estimator:hover .sk-estimator-doc-link:hover,\n",
              ".sk-estimator-doc-link:hover,\n",
              "div.sk-label-container:hover .sk-estimator-doc-link:hover,\n",
              ".sk-estimator-doc-link:hover {\n",
              "  /* unfitted */\n",
              "  background-color: var(--sklearn-color-unfitted-level-3);\n",
              "  color: var(--sklearn-color-background);\n",
              "  text-decoration: none;\n",
              "}\n",
              "\n",
              "div.sk-estimator.fitted:hover .sk-estimator-doc-link.fitted:hover,\n",
              ".sk-estimator-doc-link.fitted:hover,\n",
              "div.sk-label-container:hover .sk-estimator-doc-link.fitted:hover,\n",
              ".sk-estimator-doc-link.fitted:hover {\n",
              "  /* fitted */\n",
              "  background-color: var(--sklearn-color-fitted-level-3);\n",
              "  color: var(--sklearn-color-background);\n",
              "  text-decoration: none;\n",
              "}\n",
              "\n",
              "/* Span, style for the box shown on hovering the info icon */\n",
              ".sk-estimator-doc-link span {\n",
              "  display: none;\n",
              "  z-index: 9999;\n",
              "  position: relative;\n",
              "  font-weight: normal;\n",
              "  right: .2ex;\n",
              "  padding: .5ex;\n",
              "  margin: .5ex;\n",
              "  width: min-content;\n",
              "  min-width: 20ex;\n",
              "  max-width: 50ex;\n",
              "  color: var(--sklearn-color-text);\n",
              "  box-shadow: 2pt 2pt 4pt #999;\n",
              "  /* unfitted */\n",
              "  background: var(--sklearn-color-unfitted-level-0);\n",
              "  border: .5pt solid var(--sklearn-color-unfitted-level-3);\n",
              "}\n",
              "\n",
              ".sk-estimator-doc-link.fitted span {\n",
              "  /* fitted */\n",
              "  background: var(--sklearn-color-fitted-level-0);\n",
              "  border: var(--sklearn-color-fitted-level-3);\n",
              "}\n",
              "\n",
              ".sk-estimator-doc-link:hover span {\n",
              "  display: block;\n",
              "}\n",
              "\n",
              "/* \"?\"-specific style due to the `<a>` HTML tag */\n",
              "\n",
              "#sk-container-id-4 a.estimator_doc_link {\n",
              "  float: right;\n",
              "  font-size: 1rem;\n",
              "  line-height: 1em;\n",
              "  font-family: monospace;\n",
              "  background-color: var(--sklearn-color-background);\n",
              "  border-radius: 1rem;\n",
              "  height: 1rem;\n",
              "  width: 1rem;\n",
              "  text-decoration: none;\n",
              "  /* unfitted */\n",
              "  color: var(--sklearn-color-unfitted-level-1);\n",
              "  border: var(--sklearn-color-unfitted-level-1) 1pt solid;\n",
              "}\n",
              "\n",
              "#sk-container-id-4 a.estimator_doc_link.fitted {\n",
              "  /* fitted */\n",
              "  border: var(--sklearn-color-fitted-level-1) 1pt solid;\n",
              "  color: var(--sklearn-color-fitted-level-1);\n",
              "}\n",
              "\n",
              "/* On hover */\n",
              "#sk-container-id-4 a.estimator_doc_link:hover {\n",
              "  /* unfitted */\n",
              "  background-color: var(--sklearn-color-unfitted-level-3);\n",
              "  color: var(--sklearn-color-background);\n",
              "  text-decoration: none;\n",
              "}\n",
              "\n",
              "#sk-container-id-4 a.estimator_doc_link.fitted:hover {\n",
              "  /* fitted */\n",
              "  background-color: var(--sklearn-color-fitted-level-3);\n",
              "}\n",
              "</style><div id=\"sk-container-id-4\" class=\"sk-top-container\"><div class=\"sk-text-repr-fallback\"><pre>StackingRegressor(cv=3,\n",
              "                  estimators=[(&#x27;xgb&#x27;,\n",
              "                               XGBRegressor(base_score=None, booster=None,\n",
              "                                            callbacks=None,\n",
              "                                            colsample_bylevel=None,\n",
              "                                            colsample_bynode=None,\n",
              "                                            colsample_bytree=0.5524209398644827,\n",
              "                                            device=None,\n",
              "                                            early_stopping_rounds=None,\n",
              "                                            enable_categorical=False,\n",
              "                                            eval_metric=None,\n",
              "                                            feature_types=None, gamma=None,\n",
              "                                            grow_policy=None,\n",
              "                                            importance_type=None,\n",
              "                                            interaction_constrain...\n",
              "                                            max_leaves=None,\n",
              "                                            min_child_weight=None, missing=nan,\n",
              "                                            monotone_constraints=None,\n",
              "                                            multi_strategy=None,\n",
              "                                            n_estimators=666, n_jobs=None,\n",
              "                                            num_parallel_tree=None,\n",
              "                                            random_state=42, ...)),\n",
              "                              (&#x27;ridge&#x27;, RidgeCV(alphas=[0.1, 1.0, 10.0])),\n",
              "                              (&#x27;rf&#x27;,\n",
              "                               RandomForestRegressor(max_depth=10,\n",
              "                                                     n_estimators=200,\n",
              "                                                     random_state=42))],\n",
              "                  final_estimator=RidgeCV(alphas=[0.1, 1.0, 10.0]), n_jobs=-1,\n",
              "                  passthrough=True)</pre><b>In a Jupyter environment, please rerun this cell to show the HTML representation or trust the notebook. <br />On GitHub, the HTML representation is unable to render, please try loading this page with nbviewer.org.</b></div><div class=\"sk-container\" hidden><div class=\"sk-item sk-dashed-wrapped\"><div class=\"sk-label-container\"><div class=\"sk-label fitted sk-toggleable\"><input class=\"sk-toggleable__control sk-hidden--visually\" id=\"sk-estimator-id-8\" type=\"checkbox\" ><label for=\"sk-estimator-id-8\" class=\"sk-toggleable__label fitted sk-toggleable__label-arrow\"><div><div>StackingRegressor</div></div><div><a class=\"sk-estimator-doc-link fitted\" rel=\"noreferrer\" target=\"_blank\" href=\"https://scikit-learn.org/1.6/modules/generated/sklearn.ensemble.StackingRegressor.html\">?<span>Documentation for StackingRegressor</span></a><span class=\"sk-estimator-doc-link fitted\">i<span>Fitted</span></span></div></label><div class=\"sk-toggleable__content fitted\"><pre>StackingRegressor(cv=3,\n",
              "                  estimators=[(&#x27;xgb&#x27;,\n",
              "                               XGBRegressor(base_score=None, booster=None,\n",
              "                                            callbacks=None,\n",
              "                                            colsample_bylevel=None,\n",
              "                                            colsample_bynode=None,\n",
              "                                            colsample_bytree=0.5524209398644827,\n",
              "                                            device=None,\n",
              "                                            early_stopping_rounds=None,\n",
              "                                            enable_categorical=False,\n",
              "                                            eval_metric=None,\n",
              "                                            feature_types=None, gamma=None,\n",
              "                                            grow_policy=None,\n",
              "                                            importance_type=None,\n",
              "                                            interaction_constrain...\n",
              "                                            max_leaves=None,\n",
              "                                            min_child_weight=None, missing=nan,\n",
              "                                            monotone_constraints=None,\n",
              "                                            multi_strategy=None,\n",
              "                                            n_estimators=666, n_jobs=None,\n",
              "                                            num_parallel_tree=None,\n",
              "                                            random_state=42, ...)),\n",
              "                              (&#x27;ridge&#x27;, RidgeCV(alphas=[0.1, 1.0, 10.0])),\n",
              "                              (&#x27;rf&#x27;,\n",
              "                               RandomForestRegressor(max_depth=10,\n",
              "                                                     n_estimators=200,\n",
              "                                                     random_state=42))],\n",
              "                  final_estimator=RidgeCV(alphas=[0.1, 1.0, 10.0]), n_jobs=-1,\n",
              "                  passthrough=True)</pre></div> </div></div><div class=\"sk-serial\"><div class=\"sk-item\"><div class=\"sk-parallel\"><div class=\"sk-parallel-item\"><div class=\"sk-item\"><div class=\"sk-label-container\"><div class=\"sk-label fitted sk-toggleable\"><label>xgb</label></div></div><div class=\"sk-serial\"><div class=\"sk-item\"><div class=\"sk-estimator fitted sk-toggleable\"><input class=\"sk-toggleable__control sk-hidden--visually\" id=\"sk-estimator-id-9\" type=\"checkbox\" ><label for=\"sk-estimator-id-9\" class=\"sk-toggleable__label fitted sk-toggleable__label-arrow\"><div><div>XGBRegressor</div></div></label><div class=\"sk-toggleable__content fitted\"><pre>XGBRegressor(base_score=None, booster=None, callbacks=None,\n",
              "             colsample_bylevel=None, colsample_bynode=None,\n",
              "             colsample_bytree=0.5524209398644827, device=None,\n",
              "             early_stopping_rounds=None, enable_categorical=False,\n",
              "             eval_metric=None, feature_types=None, gamma=None, grow_policy=None,\n",
              "             importance_type=None, interaction_constraints=None,\n",
              "             learning_rate=0.040836959358773406, max_bin=None,\n",
              "             max_cat_threshold=None, max_cat_to_onehot=None,\n",
              "             max_delta_step=None, max_depth=3, max_leaves=None,\n",
              "             min_child_weight=None, missing=nan, monotone_constraints=None,\n",
              "             multi_strategy=None, n_estimators=666, n_jobs=None,\n",
              "             num_parallel_tree=None, random_state=42, ...)</pre></div> </div></div></div></div></div><div class=\"sk-parallel-item\"><div class=\"sk-item\"><div class=\"sk-label-container\"><div class=\"sk-label fitted sk-toggleable\"><label>ridge</label></div></div><div class=\"sk-serial\"><div class=\"sk-item\"><div class=\"sk-estimator fitted sk-toggleable\"><input class=\"sk-toggleable__control sk-hidden--visually\" id=\"sk-estimator-id-10\" type=\"checkbox\" ><label for=\"sk-estimator-id-10\" class=\"sk-toggleable__label fitted sk-toggleable__label-arrow\"><div><div>RidgeCV</div></div><div><a class=\"sk-estimator-doc-link fitted\" rel=\"noreferrer\" target=\"_blank\" href=\"https://scikit-learn.org/1.6/modules/generated/sklearn.linear_model.RidgeCV.html\">?<span>Documentation for RidgeCV</span></a></div></label><div class=\"sk-toggleable__content fitted\"><pre>RidgeCV(alphas=[0.1, 1.0, 10.0])</pre></div> </div></div></div></div></div><div class=\"sk-parallel-item\"><div class=\"sk-item\"><div class=\"sk-label-container\"><div class=\"sk-label fitted sk-toggleable\"><label>rf</label></div></div><div class=\"sk-serial\"><div class=\"sk-item\"><div class=\"sk-estimator fitted sk-toggleable\"><input class=\"sk-toggleable__control sk-hidden--visually\" id=\"sk-estimator-id-11\" type=\"checkbox\" ><label for=\"sk-estimator-id-11\" class=\"sk-toggleable__label fitted sk-toggleable__label-arrow\"><div><div>RandomForestRegressor</div></div><div><a class=\"sk-estimator-doc-link fitted\" rel=\"noreferrer\" target=\"_blank\" href=\"https://scikit-learn.org/1.6/modules/generated/sklearn.ensemble.RandomForestRegressor.html\">?<span>Documentation for RandomForestRegressor</span></a></div></label><div class=\"sk-toggleable__content fitted\"><pre>RandomForestRegressor(max_depth=10, n_estimators=200, random_state=42)</pre></div> </div></div></div></div></div></div></div><div class=\"sk-item\"><div class=\"sk-parallel\"><div class=\"sk-parallel-item\"><div class=\"sk-item\"><div class=\"sk-label-container\"><div class=\"sk-label fitted sk-toggleable\"><label>final_estimator</label></div></div><div class=\"sk-serial\"><div class=\"sk-item\"><div class=\"sk-estimator fitted sk-toggleable\"><input class=\"sk-toggleable__control sk-hidden--visually\" id=\"sk-estimator-id-12\" type=\"checkbox\" ><label for=\"sk-estimator-id-12\" class=\"sk-toggleable__label fitted sk-toggleable__label-arrow\"><div><div>RidgeCV</div></div><div><a class=\"sk-estimator-doc-link fitted\" rel=\"noreferrer\" target=\"_blank\" href=\"https://scikit-learn.org/1.6/modules/generated/sklearn.linear_model.RidgeCV.html\">?<span>Documentation for RidgeCV</span></a></div></label><div class=\"sk-toggleable__content fitted\"><pre>RidgeCV(alphas=[0.1, 1.0, 10.0])</pre></div> </div></div></div></div></div></div></div></div></div></div></div>"
            ]
          },
          "metadata": {},
          "execution_count": 103
        }
      ],
      "source": [
        "final_model = stack_model\n",
        "final_model.fit(X_trimmed, y_train)"
      ]
    },
    {
      "cell_type": "code",
      "source": [
        "final_preds = final_model.predict(X_test_trimmed)"
      ],
      "metadata": {
        "id": "fzLIOXoO-OpV"
      },
      "execution_count": null,
      "outputs": []
    },
    {
      "cell_type": "code",
      "source": [
        "submission = pd.DataFrame({\n",
        "    'Id': test_id,\n",
        "    'SalePrice': final_preds})"
      ],
      "metadata": {
        "id": "-vd3dp2F842L"
      },
      "execution_count": null,
      "outputs": []
    },
    {
      "cell_type": "code",
      "execution_count": null,
      "metadata": {
        "id": "LTE0a4fa9Y3n",
        "colab": {
          "base_uri": "https://localhost:8080/"
        },
        "outputId": "5a0cc126-f235-49f2-f10e-ebb84d906661"
      },
      "outputs": [
        {
          "output_type": "stream",
          "name": "stdout",
          "text": [
            "Submission file created with XGBoost predictions!\n"
          ]
        }
      ],
      "source": [
        "submission['SalePrice'] = np.expm1(submission[['SalePrice']])\n",
        "\n",
        "submission.to_csv(\"submission.csv\", index=False)\n",
        "print(\"Submission file created with XGBoost predictions!\")"
      ]
    },
    {
      "cell_type": "code",
      "source": [],
      "metadata": {
        "id": "F33kVxXk-RHK"
      },
      "execution_count": null,
      "outputs": []
    }
  ],
  "metadata": {
    "colab": {
      "machine_shape": "hm",
      "provenance": []
    },
    "kernelspec": {
      "display_name": "Python 3",
      "name": "python3"
    },
    "language_info": {
      "name": "python"
    }
  },
  "nbformat": 4,
  "nbformat_minor": 0
}